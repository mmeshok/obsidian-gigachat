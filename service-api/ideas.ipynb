{
 "cells": [
  {
   "cell_type": "markdown",
   "metadata": {},
   "source": [
    "# Ручка 3. Summary\n",
    "\n",
    "Делает краткое саммари всего конспекта (на вход идет весь файл в обсидиане, можно добавить передачу всей папки)"
   ]
  },
  {
   "cell_type": "code",
   "execution_count": 64,
   "metadata": {},
   "outputs": [],
   "source": [
    "from langchain.chat_models.gigachat import GigaChat\n",
    "from dotenv import load_dotenv\n",
    "import os\n",
    "\n",
    "load_dotenv()\n",
    "\n",
    "GIGACHAT_CREDENTIALS = os.environ.get(\"GIGACHAT_CREDENTIALS\")\n",
    "\n",
    "llm = GigaChat(\n",
    "    credentials=GIGACHAT_CREDENTIALS,\n",
    "    model=\"GigaChat-Pro\",\n",
    "    verify_ssl_certs=True,\n",
    "    scope=\"GIGACHAT_API_CORP\",\n",
    ")"
   ]
  },
  {
   "cell_type": "code",
   "execution_count": 51,
   "metadata": {},
   "outputs": [],
   "source": [
    "# Загружаем конспект\n",
    "from langchain_community.document_loaders.text import TextLoader\n",
    "\n",
    "notes_path = \"./notes/habr.md\"\n",
    "\n",
    "loader = TextLoader(notes_path, \"utf-8\")\n",
    "docs = loader.load()"
   ]
  },
  {
   "cell_type": "markdown",
   "metadata": {},
   "source": [
    "print(docs[0].page_content)"
   ]
  },
  {
   "cell_type": "markdown",
   "metadata": {},
   "source": [
    "# Используем Stuff Documents Chain + Summarization Checker"
   ]
  },
  {
   "cell_type": "code",
   "execution_count": 63,
   "metadata": {},
   "outputs": [
    {
     "name": "stdout",
     "output_type": "stream",
     "text": [
      "1. Количество неисправленных ошибок у SSD зависит от времени жизни диска, тогда как у HDD - от времени позиционирования головки диска (Head Flying Hours).\n",
      "2. Нет научных исследований или доказательств, подтверждающих резкое увеличение количества ошибок HDD за 2 дня перед отказом.\n",
      "3. В некоторых случаях на SSD может наблюдаться больше неисправленных ошибок по сравнению с HDD, особенно при длительном использовании.\n",
      "4. Хотя накопители часто оснащены кодами коррекции ошибок, они могут не справиться со всеми видами ошибок, и полная надежность на них не всегда может быть возложена.\n"
     ]
    }
   ],
   "source": [
    "from langchain.chains.combine_documents.stuff import create_stuff_documents_chain\n",
    "from langchain_core.prompts import PromptTemplate\n",
    "from langchain.chains import LLMSummarizationCheckerChain\n",
    "\n",
    "def stuff_summary(docs, checker: bool=False, max_checks:int=2):\n",
    "     prompt_template = \"\"\"Выдели клюбчевые моменты в тексте.\n",
    "     Текст: \"{context}\"\n",
    "     Ключевые моменты:\"\"\"\n",
    "     prompt = PromptTemplate.from_template(prompt_template)\n",
    "     stuff_chain = create_stuff_documents_chain(llm, prompt)\n",
    "     res = stuff_chain.invoke({\"context\": docs})\n",
    "     if not checker:\n",
    "          return res\n",
    "     else:\n",
    "          checker_chain = LLMSummarizationCheckerChain.from_llm(llm, max_checks=max_checks)\n",
    "          return checker_chain.run(res)\n",
    "\n",
    "print(stuff_summary(docs, True, 1))"
   ]
  },
  {
   "cell_type": "markdown",
   "metadata": {},
   "source": [
    "# Используем Map-Reduce"
   ]
  },
  {
   "cell_type": "code",
   "execution_count": 65,
   "metadata": {},
   "outputs": [
    {
     "data": {
      "text/plain": [
       "'Основные темы, которые можно выделить на основе представленных документов, включают:\\n\\n1. Отказоустойчивость приложений: важность обеспечения надежности и устойчивости программного обеспечения к сбоям и ошибкам.\\n2. Работа с диском: изучение процесса записи данных на диск, включая буферизацию и её влияние на производительность и надежность.\\n3. Языки программирования и их интерфейсы для работы с файлами: обзор различных языков программирования и их стандартных библиотек для работы с файлами, включая запись и чтение данных.\\n4. Буферизация: преимущества и недостатки буферизации при работе с файлами, а также возможные проблемы, связанные с не сброшенными буферами.\\n5. Управление буферами: необходимость контроля за сбросом буферов при завершении работы с файлами, чтобы избежать потери данных.\\n6. Ошибки и сбои: рассмотрение ситуаций, когда приложение может быть закрыто внезапно (например, при получении сигнала SIGKILL), и как это может повлиять на сохранность данных в буферах.'"
      ]
     },
     "execution_count": 65,
     "metadata": {},
     "output_type": "execute_result"
    }
   ],
   "source": [
    "from langchain_core.prompts import PromptTemplate\n",
    "from langchain.chains.llm import LLMChain\n",
    "from langchain.chains.combine_documents.stuff import StuffDocumentsChain\n",
    "from langchain.chains import MapReduceDocumentsChain, ReduceDocumentsChain\n",
    "from langchain_text_splitters import CharacterTextSplitter\n",
    "\n",
    "\n",
    "# Map\n",
    "map_template = \"\"\"Ниже представлен список документов\n",
    "{docs}\n",
    "На основе этих документов определи, пожалуйста, основные темы \n",
    "Полезный ответ:\"\"\"\n",
    "map_prompt = PromptTemplate.from_template(map_template)\n",
    "map_chain = LLMChain(llm=llm, prompt=map_prompt)\n",
    "\n",
    "reduce_template = \"\"\"Ниже представлен набор кратких изложений:\n",
    "{docs}\n",
    "Возьми их и сведи в окончательное, объединенное краткое изложение основных тем. \n",
    "Полезный ответ:\"\"\"\n",
    "reduce_prompt = PromptTemplate.from_template(reduce_template)\n",
    "\n",
    "# Run chain\n",
    "reduce_chain = LLMChain(llm=llm, prompt=reduce_prompt)\n",
    "\n",
    "# Takes a list of documents, combines them into a single string, and passes this to an LLMChain\n",
    "combine_documents_chain = StuffDocumentsChain(\n",
    "    llm_chain=reduce_chain, document_variable_name=\"docs\"\n",
    ")\n",
    "\n",
    "# Combines and iteratively reduces the mapped documents\n",
    "reduce_documents_chain = ReduceDocumentsChain(\n",
    "    # This is final chain that is called.\n",
    "    combine_documents_chain=combine_documents_chain,\n",
    "    # If documents exceed context for `StuffDocumentsChain`\n",
    "    collapse_documents_chain=combine_documents_chain,\n",
    "    # The maximum number of tokens to group documents into.\n",
    "    token_max=8000,\n",
    ")\n",
    "\n",
    "# Combining documents by mapping a chain over them, then combining results\n",
    "map_reduce_chain = MapReduceDocumentsChain(\n",
    "    # Map chain\n",
    "    llm_chain=map_chain,\n",
    "    # Reduce chain\n",
    "    reduce_documents_chain=reduce_documents_chain,\n",
    "    # The variable name in the llm_chain to put the documents in\n",
    "    document_variable_name=\"docs\",\n",
    "    # Return the results of the map steps in the output\n",
    "    return_intermediate_steps=False,\n",
    ")\n",
    "\n",
    "text_splitter = CharacterTextSplitter.from_tiktoken_encoder(\n",
    "    chunk_size=2000, chunk_overlap=0\n",
    ")\n",
    "split_docs = text_splitter.split_documents(docs)\n",
    "\n",
    "map_reduce_chain.run(split_docs)"
   ]
  },
  {
   "cell_type": "code",
   "execution_count": null,
   "metadata": {},
   "outputs": [],
   "source": []
  }
 ],
 "metadata": {
  "kernelspec": {
   "display_name": ".venv",
   "language": "python",
   "name": "python3"
  },
  "language_info": {
   "codemirror_mode": {
    "name": "ipython",
    "version": 3
   },
   "file_extension": ".py",
   "mimetype": "text/x-python",
   "name": "python",
   "nbconvert_exporter": "python",
   "pygments_lexer": "ipython3",
   "version": "3.11.0"
  }
 },
 "nbformat": 4,
 "nbformat_minor": 2
}
