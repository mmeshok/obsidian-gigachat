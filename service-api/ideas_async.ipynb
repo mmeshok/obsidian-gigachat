{
 "cells": [
  {
   "cell_type": "markdown",
   "metadata": {},
   "source": [
    "# Ручка 3. Summary\n",
    "\n",
    "Делает краткое саммари всего конспекта (на вход идет весь файл в обсидиане, можно добавить передачу всей папки)"
   ]
  },
  {
   "cell_type": "code",
   "execution_count": 114,
   "metadata": {},
   "outputs": [],
   "source": [
    "from langchain.chat_models.gigachat import GigaChat\n",
    "from dotenv import load_dotenv\n",
    "import os\n",
    "\n",
    "load_dotenv()\n",
    "\n",
    "GIGACHAT_CREDENTIALS = os.environ.get(\"GIGACHAT_CREDENTIALS\")\n",
    "\n",
    "llm = GigaChat(\n",
    "    credentials=GIGACHAT_CREDENTIALS,\n",
    "    model=\"GigaChat-Pro\",\n",
    "    verify_ssl_certs=True,\n",
    "    scope=\"GIGACHAT_API_CORP\",\n",
    ")"
   ]
  },
  {
   "cell_type": "code",
   "execution_count": 119,
   "metadata": {},
   "outputs": [],
   "source": [
    "# Загружаем конспект\n",
    "from langchain_community.document_loaders.text import TextLoader\n",
    "\n",
    "notes_path = \"./notes/text.md\"\n",
    "\n",
    "loader = TextLoader(notes_path, \"utf-8\")\n",
    "docs = loader.load()"
   ]
  },
  {
   "cell_type": "markdown",
   "metadata": {},
   "source": [
    "print(docs[0].page_content)"
   ]
  },
  {
   "cell_type": "markdown",
   "metadata": {},
   "source": [
    "# Тест async на Stuff"
   ]
  },
  {
   "cell_type": "code",
   "execution_count": 124,
   "metadata": {},
   "outputs": [
    {
     "name": "stdout",
     "output_type": "stream",
     "text": [
      "Влияние параметров пара на показатели комбинированной установки с простым паровым контуром:\n",
      "- При увеличении давления пара относительный расход пара снижается, что связано с уменьшением количества теплоты в испарительной и перегревательной поверхностях котла.\n",
      "- С увеличением давления растет температура уходящих газов.\n",
      "- Располагаемый перепад энтальпий на паровую турбину увеличивается, что приводит к росту степени влажности в конце процесса расширения и снижению КПД проточной части.\n",
      "- Зависимость КПД парогазовой установки от начального давления достаточно слабая, оптимальное значение увеличивается с ростом температуры газа за газовой турбиной.\n",
      "- Температура уходящих газов во всем диапазоне изменения параметров остается выше минимально-допустимой."
     ]
    }
   ],
   "source": [
    "from langchain.chains.combine_documents.stuff import create_stuff_documents_chain\n",
    "from langchain_core.prompts import PromptTemplate\n",
    "\n",
    "# Define prompt\n",
    "prompt_template = \"\"\"Write a concise summary of the following:\n",
    "\"{context}\"\n",
    "CONCISE SUMMARY:\"\"\"\n",
    "prompt = PromptTemplate.from_template(prompt_template)\n",
    "\n",
    "# Define StuffDocumentsChain\n",
    "stuff_chain = create_stuff_documents_chain(llm, prompt)\n",
    "\n",
    "\n",
    "# await stuff_chain.ainvoke({\"context\": docs})\n",
    "for chunk in stuff_chain.stream({\"context\": docs}):\n",
    "     print(chunk, end=\"\", flush=True)"
   ]
  },
  {
   "cell_type": "markdown",
   "metadata": {},
   "source": [
    "# Используем Map-Reduce и Refine"
   ]
  },
  {
   "cell_type": "code",
   "execution_count": 122,
   "metadata": {},
   "outputs": [],
   "source": [
    "from functools import partial\n",
    "from langchain.schema import  StrOutputParser\n",
    "from langchain.schema.prompt_template import format_document\n",
    "from langchain_text_splitters import CharacterTextSplitter\n",
    "\n",
    "document_prompt = PromptTemplate.from_template(\"{page_content}\")\n",
    "partial_format_document = partial(format_document, prompt=document_prompt)\n",
    "\n",
    "map_template = \"\"\"Ниже представлен список документов\n",
    "{docs}\n",
    "На основе этих документов определи, пожалуйста, основные темы \n",
    "Полезный ответ:\"\"\"\n",
    "\n",
    "map_prompt = PromptTemplate.from_template(map_template)\n",
    "\n",
    "map_chain = (\n",
    "    map_prompt\n",
    "    | llm\n",
    ")\n",
    "\n",
    "collapse_chain = (\n",
    "    PromptTemplate.from_template(\"Сделай краткое содержание этих документов по основным темам:\\n\\n{context}\")\n",
    "    | llm\n",
    ")\n",
    "\n",
    "reduce_chain = (\n",
    "    PromptTemplate.from_template(\"Объедени эти краткие содержания в одно целое:\\n\\n{context}\")\n",
    "    | llm\n",
    ")\n",
    "\n",
    "map_reduce = (map_chain.map() | collapse_chain | reduce_chain | StrOutputParser())"
   ]
  },
  {
   "cell_type": "code",
   "execution_count": 123,
   "metadata": {},
   "outputs": [
    {
     "data": {
      "text/plain": [
       "'Данные документы охватывают такие основные темы, как влияние различных параметров на мощность паровой турбины, зависимость коэффициента полезного действия парогазовой установки от начального давления, поиск оптимальных параметров для создания высокоэффективного оборудования, использование тепла уходящих газов, влияние минимального температурного напора на параметры установки и, наконец, влияние параметров пара на работу комбинированной установки с простым паровым контуром.'"
      ]
     },
     "execution_count": 123,
     "metadata": {},
     "output_type": "execute_result"
    }
   ],
   "source": [
    "text_splitter = CharacterTextSplitter.from_tiktoken_encoder(\n",
    "    chunk_size=2000, chunk_overlap=0\n",
    ")\n",
    "split_docs = text_splitter.split_documents(docs)\n",
    "\n",
    "await map_reduce.ainvoke(split_docs)"
   ]
  },
  {
   "cell_type": "code",
   "execution_count": 108,
   "metadata": {},
   "outputs": [],
   "source": [
    "docs *= 2"
   ]
  },
  {
   "cell_type": "code",
   "execution_count": 109,
   "metadata": {},
   "outputs": [
    {
     "data": {
      "text/plain": [
       "64"
      ]
     },
     "execution_count": 109,
     "metadata": {},
     "output_type": "execute_result"
    }
   ],
   "source": [
    "len(docs)"
   ]
  },
  {
   "cell_type": "code",
   "execution_count": 110,
   "metadata": {},
   "outputs": [
    {
     "data": {
      "text/plain": [
       "180736"
      ]
     },
     "execution_count": 110,
     "metadata": {},
     "output_type": "execute_result"
    }
   ],
   "source": [
    "sum([len(el.page_content) for el in docs])"
   ]
  },
  {
   "cell_type": "code",
   "execution_count": null,
   "metadata": {},
   "outputs": [],
   "source": []
  }
 ],
 "metadata": {
  "kernelspec": {
   "display_name": ".venv",
   "language": "python",
   "name": "python3"
  },
  "language_info": {
   "codemirror_mode": {
    "name": "ipython",
    "version": 3
   },
   "file_extension": ".py",
   "mimetype": "text/x-python",
   "name": "python",
   "nbconvert_exporter": "python",
   "pygments_lexer": "ipython3",
   "version": "3.11.0"
  }
 },
 "nbformat": 4,
 "nbformat_minor": 2
}
