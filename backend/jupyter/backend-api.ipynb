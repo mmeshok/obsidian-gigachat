{
 "cells": [
  {
   "cell_type": "markdown",
   "id": "7644fd67-2407-4fad-9360-001d59afcfec",
   "metadata": {},
   "source": [
    "# Backend API requests"
   ]
  },
  {
   "cell_type": "markdown",
   "id": "2fc56a19-9574-458e-807b-031bc2107302",
   "metadata": {},
   "source": [
    "## Ручка № 1: Простой запрос к gigachat api\n",
    "\n",
    "Принимает на вход текст, возвращает ответ. \n",
    "Сохраняет контекст беседы, при последующих запросах.\n",
    "\n",
    "Методы:\n",
    "\n",
    "1. chat/\n",
    "2. chat/clear - отчищает контекст"
   ]
  },
  {
   "cell_type": "code",
   "execution_count": 1,
   "id": "87a10325-44da-4489-9f82-bc64bff4ebe7",
   "metadata": {},
   "outputs": [],
   "source": [
    "import requests\n",
    "import os\n",
    "\n",
    "os.environ['NO_PROXY'] = '127.0.0.1'\n",
    "\n",
    "host = 'http://0.0.0.0:8080'\n",
    "headers = { 'Content-Type': 'application/json' }\n",
    "\n",
    "def path(suffix):\n",
    "    return f'{host}/{suffix}'"
   ]
  },
  {
   "cell_type": "code",
   "execution_count": 2,
   "id": "cc348752-eca3-46c9-934f-476b2cf20bd7",
   "metadata": {},
   "outputs": [
    {
     "name": "stdout",
     "output_type": "stream",
     "text": [
      "Backend is running\n",
      "\n"
     ]
    }
   ],
   "source": [
    "# Проверка что сервер жив\n",
    "\n",
    "print(requests.get(path('health_check')).text)"
   ]
  },
  {
   "cell_type": "code",
   "execution_count": 3,
   "id": "18d5f790-c26b-4cf8-87d7-3cc4544d3e5e",
   "metadata": {},
   "outputs": [
    {
     "name": "stdout",
     "output_type": "stream",
     "text": [
      "{\n",
      "  \"responce\": \"This is mock responce!\"\n",
      "}\n",
      "\n",
      "<Response [200]>\n"
     ]
    }
   ],
   "source": [
    "# Простая ручка, передача сообщения\n",
    "body1 = {\n",
    "    'messages': ['Ты кто?']\n",
    "}\n",
    "print(requests.post(path('chat'), json=body1, headers=headers).text)\n",
    "\n",
    "# Ручка отчистки контекста\n",
    "print(requests.post(path('chat/clear'), headers=headers))"
   ]
  },
  {
   "cell_type": "markdown",
   "id": "a7bd1809-12ec-41b1-9058-7e1155096976",
   "metadata": {},
   "source": [
    "## Ручка №2: Ручка на доработку конспекта\n",
    "\n",
    "Принимает на вход текст целого файла - конспект, который затем дорабатывает.\n",
    "Находит специфичные термины, относящиеся к общей теме и вставляет для них ссылки на вики.\n",
    "Пишет саммари для конспекта и вставляет в начало.\n",
    "\n",
    "Методы:\n",
    "1. terms/ - суммаризирует конспект и дорабатывает его."
   ]
  },
  {
   "cell_type": "code",
   "execution_count": 40,
   "id": "b0d9eda1-3205-439f-b34d-bac60b84a63c",
   "metadata": {},
   "outputs": [],
   "source": [
    "text = \"\"\"\n",
    "# Введение в сети \n",
    "\n",
    "## Типы сетей\n",
    "\n",
    "По классу:\n",
    "- локальные lAN\n",
    "- глобальные WAN\n",
    "\n",
    "По функции:\n",
    "- сети доступа\n",
    "- сети агрегации\n",
    "- ядро сети\n",
    "\n",
    "По топологии.\n",
    "\n",
    "## Уровни сетей\n",
    "\n",
    "- application\n",
    "- transport\n",
    "- network\n",
    "- link\n",
    "- physical\n",
    "\n",
    "## MAC адреса\n",
    "\n",
    "На канальном уровне\n",
    "\n",
    "## На сетевом уровне\n",
    "\n",
    "Роутер\n",
    "\"\"\"\n",
    "\n",
    "body = {'text': text }\n",
    "responce = requests.post(path('terms'), json=body, headers=headers)"
   ]
  },
  {
   "cell_type": "code",
   "execution_count": 41,
   "id": "99e20413-8d6d-4a54-a7d7-d729e3ddcad8",
   "metadata": {},
   "outputs": [
    {
     "name": "stdout",
     "output_type": "stream",
     "text": [
      "\n",
      "# Введение в сети \n",
      "\n",
      "## Типы сетей\n",
      "\n",
      "По классу:\n",
      "- локальные lAN (LAN - Local Area Network)\n",
      "- глобальные WAN (WAN - Глобальная компьютерная сеть)\n",
      "\n",
      "По функции:\n",
      "- сети доступа\n",
      "- сети агрегации\n",
      "- ядро сети\n",
      "\n",
      "По топологии.\n",
      "\n",
      "## Уровни сетей\n",
      "\n",
      "- application (Расшифровка аббревиатуры \"application\" в данном тексте отсутствует.)\n",
      "- transport (Транспорт - это совокупность всех видов путей сообщения, транспортных средств, технических устройств и сооружений на путях сообщения, обеспечивающих процесс перемещения людей и грузов различного назначения из одного места в другое.)\n",
      "- network (Совокупность систем связи и систем обработки информации, которая может использоваться несколькими пользователями.)\n",
      "- link (\"Линк\" означает \"ссылка\".)\n",
      "- physical (Расшифровка аббревиатуры \"physical\" в данном тексте отсутствует.)\n",
      "\n",
      "## MAC (MAC - Media Access Control) адреса\n",
      "\n",
      "На канальном уровне\n",
      "\n",
      "## На сетевом уровне\n",
      "\n",
      "Роутер\n",
      "\n"
     ]
    }
   ],
   "source": [
    "print(responce.json()['result'])"
   ]
  }
 ],
 "metadata": {
  "kernelspec": {
   "display_name": "Python 3 (ipykernel)",
   "language": "python",
   "name": "python3"
  },
  "language_info": {
   "codemirror_mode": {
    "name": "ipython",
    "version": 3
   },
   "file_extension": ".py",
   "mimetype": "text/x-python",
   "name": "python",
   "nbconvert_exporter": "python",
   "pygments_lexer": "ipython3",
   "version": "3.12.3"
  }
 },
 "nbformat": 4,
 "nbformat_minor": 5
}
