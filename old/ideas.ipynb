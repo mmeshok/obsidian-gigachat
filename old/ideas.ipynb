{
 "cells": [
  {
   "cell_type": "markdown",
   "metadata": {},
   "source": [
    "# Ручка 3. Summary\n",
    "\n",
    "Делает краткое саммари всего конспекта (на вход идет весь файл в обсидиане, можно добавить передачу всей папки)"
   ]
  },
  {
   "cell_type": "code",
   "execution_count": 29,
   "metadata": {},
   "outputs": [],
   "source": [
    "from langchain.chat_models.gigachat import GigaChat\n",
    "from dotenv import load_dotenv\n",
    "import os\n",
    "\n",
    "load_dotenv()\n",
    "\n",
    "GIGACHAT_CREDENTIALS = os.environ.get(\"GIGACHAT_CREDENTIALS\")\n",
    "SERPER_API_KEY = os.environ.get(\"SERPER_API_KEY\")\n",
    "\n",
    "llm = GigaChat(\n",
    "    credentials=GIGACHAT_CREDENTIALS,\n",
    "    model=\"GigaChat-Pro\",\n",
    "    verify_ssl_certs=False,\n",
    "    scope=\"GIGACHAT_API_CORP\",\n",
    "    profanity_check=False\n",
    ")"
   ]
  },
  {
   "cell_type": "code",
   "execution_count": 30,
   "metadata": {},
   "outputs": [],
   "source": [
    "# Загружаем конспект\n",
    "from langchain_community.document_loaders.text import TextLoader\n",
    "\n",
    "notes_path = \"./notes/small_note.md\"\n",
    "\n",
    "loader = TextLoader(notes_path, \"utf-8\")\n",
    "docs = loader.load()"
   ]
  },
  {
   "cell_type": "markdown",
   "metadata": {},
   "source": [
    "print(docs[0].page_content)"
   ]
  },
  {
   "cell_type": "markdown",
   "metadata": {},
   "source": [
    "# Используем Stuff Documents Chain + Summarization Checker"
   ]
  },
  {
   "cell_type": "code",
   "execution_count": 31,
   "metadata": {},
   "outputs": [
    {
     "name": "stdout",
     "output_type": "stream",
     "text": [
      "- Влияние параметров пара на показатели комбинированной установки с простым паровым контуром\n",
      "- Максимальная мощность паровой турбины достигается при определенных параметрах пара\n",
      "- Мощность паровой турбины зависит от расхода пара, располагаемого перепада энтальпий на турбину и КПД паровой турбины\n",
      "- Температура пара перед паровой турбиной обычно принимается максимально возможной для уменьшения потерь от влажности и повышения КПД турбины\n",
      "- Увеличение давления пара приводит к снижению расхода генерируемого пара и росту температуры уходящих газов\n",
      "- При увеличении давления располагаемый перепад энтальпий на паровую турбину увеличивается, что приводит к снижению КПД проточной части\n",
      "- Совместное влияние параметров на величину мощности паровой турбины приводит к слабому изменению КПД парогазовой установки с ростом давления\n",
      "- Температура уходящих газов остается выше минимально допустимой во всем диапазоне изменения параметров\n"
     ]
    }
   ],
   "source": [
    "from langchain.chains.combine_documents.stuff import create_stuff_documents_chain\n",
    "from langchain_core.prompts import PromptTemplate\n",
    "from langchain.chains import LLMSummarizationCheckerChain\n",
    "\n",
    "def stuff_summary(docs, checker: bool=False, max_checks:int=2):\n",
    "     prompt_template = \"\"\"Выдели клюбючевые моменты в тексте.\n",
    "     Оформи ответ в виде списка.\n",
    "     Текст: \"{context}\"\n",
    "     Ключевые моменты:\"\"\"\n",
    "     prompt = PromptTemplate.from_template(prompt_template)\n",
    "     stuff_chain = create_stuff_documents_chain(llm, prompt)\n",
    "     res = stuff_chain.invoke({\"context\": docs})\n",
    "     if not checker:\n",
    "          return res\n",
    "     else:\n",
    "          checker_chain = LLMSummarizationCheckerChain.from_llm(llm, max_checks=max_checks)\n",
    "          return checker_chain.invoke(res)\n",
    "          \n",
    "\n",
    "print(stuff_summary(docs, False))"
   ]
  },
  {
   "cell_type": "code",
   "execution_count": 59,
   "metadata": {},
   "outputs": [
    {
     "data": {
      "text/plain": [
       "'1. Максимальная мощность паровой турбины достигается при определенных параметрах пара.\\n2. Мощность паровой турбины зависит от расхода пара, располагаемого перепада энтальпий на турбину и КПД паровой турбины.\\n3. Температура пара перед паровой турбиной обычно принимается максимально возможной для уменьшения потерь от влажности и повышения КПД турбины.\\n4. Увеличение давления пара приводит к снижению расхода генерируемого пара и росту температуры уходящих газов.\\n5. При увеличении давления располагаемый перепад энтальпий на паровую турбину увеличивается, что приводит к снижению КПД проточной части.\\n6. Совместное влияние параметров на величину мощности паровой турбины приводит к слабому изменению КПД парогазовой установки с ростом давления.\\n7. Температура уходящих газов остается выше минимально допустимой во всем диапазоне изменения параметров.'"
      ]
     },
     "execution_count": 59,
     "metadata": {},
     "output_type": "execute_result"
    }
   ],
   "source": [
    "from langchain.schema.document import Document\n",
    "\n",
    "\n",
    "\n",
    "prompt_template = \"\"\"Выдели клюбючевые моменты в тексте.\n",
    "Оформи ответ в виде списка.\n",
    "Текст: \"{context}\"\n",
    "Ключевые моменты:\"\"\"\n",
    "\n",
    "text = \"\"\"Влияние параметров пара на показатели комбинированной установки с простым паровым контуром\n",
    "- Максимальная мощность паровой турбины достигается при определенных параметрах пара\n",
    "- Мощность паровой турбины зависит от расхода пара, располагаемого перепада энтальпий на турбину и КПД паровой турбины\n",
    "- Температура пара перед паровой турбиной обычно принимается максимально возможной для уменьшения потерь от влажности и повышения КПД турбины\n",
    "- Увеличение давления пара приводит к снижению расхода генерируемого пара и росту температуры уходящих газов\n",
    "- При увеличении давления располагаемый перепад энтальпий на паровую турбину увеличивается, что приводит к снижению КПД проточной части\n",
    "- Совместное влияние параметров на величину мощности паровой турбины приводит к слабому изменению КПД парогазовой установки с ростом давления\n",
    "- Температура уходящих газов остается выше минимально допустимой во всем диапазоне изменения параметров\"\"\"\n",
    "\n",
    "docs =  [Document(page_content=text, metadata={\"source\": \"local\"})]\n",
    "\n",
    "prompt = PromptTemplate.from_template(prompt_template)\n",
    "stuff_chain = create_stuff_documents_chain(llm, prompt)\n",
    "res = stuff_chain.invoke({\"context\": docs})\n",
    "res"
   ]
  },
  {
   "cell_type": "code",
   "execution_count": 58,
   "metadata": {},
   "outputs": [
    {
     "data": {
      "text/plain": [
       "[Document(page_content='Влияние параметров пара на показатели комбинированной установки с простым паровым контуром\\n- Максимальная мощность паровой турбины достигается при определенных параметрах пара\\n- Мощность паровой турбины зависит от расхода пара, располагаемого перепада энтальпий на турбину и КПД паровой турбины\\n- Температура пара перед паровой турбиной обычно принимается максимально возможной для уменьшения потерь от влажности и повышения КПД турбины\\n- Увеличение давления пара приводит к снижению расхода генерируемого пара и росту температуры уходящих газов\\n- При увеличении давления располагаемый перепад энтальпий на паровую турбину увеличивается, что приводит к снижению КПД проточной части\\n- Совместное влияние параметров на величину мощности паровой турбины приводит к слабому изменению КПД парогазовой установки с ростом давления\\n- Температура уходящих газов остается выше минимально допустимой во всем диапазоне изменения параметров', metadata={'source': 'local'})]"
      ]
     },
     "execution_count": 58,
     "metadata": {},
     "output_type": "execute_result"
    }
   ],
   "source": [
    "[Document(page_content=text, metadata={\"source\": \"local\"})]"
   ]
  },
  {
   "cell_type": "markdown",
   "metadata": {},
   "source": [
    "# Используем Map-Reduce"
   ]
  },
  {
   "cell_type": "code",
   "execution_count": 10,
   "metadata": {},
   "outputs": [
    {
     "data": {
      "text/plain": [
       "'Сети и их классификация: Существуют различные типы сетей, включая локальные (LAN) и глобальные (WAN), каждый из которых выполняет свои функции. Локальные сети служат для обмена данными внутри ограниченной географической области, в то время как глобальные сети обеспечивают связь между различными географическими областями. Кроме того, сети могут быть организованы в виде сетей доступа, сетей агрегации и ядра сети.\\n\\nТопология сетей: Способ организации связей между узлами сети может быть различным. Существуют топологии типа \"звезда\", \"дерево\", \"шина\" и \"кольцо\". Выбор конкретной топологии зависит от требований к сети и ее масштаба.\\n\\nУровни сетей: Структура OSI определяет семь уровней сетей, начиная от уровня приложения и заканчивая физическим уровнем. Каждый уровень выполняет свои специфические функции и взаимодействует с другими уровнями для обеспечения эффективной передачи данных.\\n\\nMAC-адреса: Уникальные идентификаторы устройств на канальном уровне модели OSI. MAC-адреса используются для идентификации устройств в локальной сети и обеспечивают доставку данных непосредственно к получателю.\\n\\nРоутеры: Устройства, используемые для пересылки пакетов данных между различными сетями. Роутеры анализируют информацию о пакетах и принимают решения о направлении их передачи, основываясь на информации о маршрутах и сетевых политиках.'"
      ]
     },
     "execution_count": 10,
     "metadata": {},
     "output_type": "execute_result"
    }
   ],
   "source": [
    "from langchain_core.prompts import PromptTemplate\n",
    "from langchain.chains.llm import LLMChain\n",
    "from langchain.chains.combine_documents.stuff import StuffDocumentsChain\n",
    "from langchain.chains import MapReduceDocumentsChain, ReduceDocumentsChain\n",
    "from langchain_text_splitters import CharacterTextSplitter\n",
    "\n",
    "\n",
    "# Map\n",
    "map_template = \"\"\"Ниже представлен список документов\n",
    "{docs}\n",
    "На основе этих документов определи, пожалуйста, основные темы \n",
    "Полезный ответ:\"\"\"\n",
    "map_prompt = PromptTemplate.from_template(map_template)\n",
    "map_chain = LLMChain(llm=llm, prompt=map_prompt)\n",
    "\n",
    "reduce_template = \"\"\"Ниже представлен набор кратких изложений:\n",
    "{docs}\n",
    "Возьми их и сведи в окончательное, объединенное краткое изложение основных тем. \n",
    "Полезный ответ:\"\"\"\n",
    "reduce_prompt = PromptTemplate.from_template(reduce_template)\n",
    "\n",
    "# Run chain\n",
    "reduce_chain = LLMChain(llm=llm, prompt=reduce_prompt)\n",
    "\n",
    "# Takes a list of documents, combines them into a single string, and passes this to an LLMChain\n",
    "combine_documents_chain = StuffDocumentsChain(\n",
    "    llm_chain=reduce_chain, document_variable_name=\"docs\"\n",
    ")\n",
    "\n",
    "# Combines and iteratively reduces the mapped documents\n",
    "reduce_documents_chain = ReduceDocumentsChain(\n",
    "    # This is final chain that is called.\n",
    "    combine_documents_chain=combine_documents_chain,\n",
    "    # If documents exceed context for `StuffDocumentsChain`\n",
    "    collapse_documents_chain=combine_documents_chain,\n",
    "    # The maximum number of tokens to group documents into.\n",
    "    token_max=8000,\n",
    ")\n",
    "\n",
    "# Combining documents by mapping a chain over them, then combining results\n",
    "map_reduce_chain = MapReduceDocumentsChain(\n",
    "    # Map chain\n",
    "    llm_chain=map_chain,\n",
    "    # Reduce chain\n",
    "    reduce_documents_chain=reduce_documents_chain,\n",
    "    # The variable name in the llm_chain to put the documents in\n",
    "    document_variable_name=\"docs\",\n",
    "    # Return the results of the map steps in the output\n",
    "    return_intermediate_steps=False,\n",
    ")\n",
    "\n",
    "text_splitter = CharacterTextSplitter.from_tiktoken_encoder(\n",
    "    chunk_size=2000, chunk_overlap=0\n",
    ")\n",
    "split_docs = text_splitter.split_documents(docs)\n",
    "\n",
    "map_reduce_chain.run(split_docs)"
   ]
  },
  {
   "cell_type": "markdown",
   "metadata": {},
   "source": [
    "# 2 Поиск терминов"
   ]
  },
  {
   "cell_type": "code",
   "execution_count": 11,
   "metadata": {},
   "outputs": [
    {
     "data": {
      "text/plain": [
       "{'WAN': 'WAN - Глобальная компьютерная сеть (англ: Wide Area Network).',\n",
       " 'LAN': 'LAN - Local Area Network',\n",
       " 'MAC': 'MAC - Media Access Control (надзор за доступом к среде)'}"
      ]
     },
     "execution_count": 11,
     "metadata": {},
     "output_type": "execute_result"
    }
   ],
   "source": [
    "from langchain.chains import AnalyzeDocumentChain\n",
    "from langchain.chains.question_answering import load_qa_chain\n",
    "\n",
    "note_path = \"./notes/test_note.md\"\n",
    "\n",
    "loader = TextLoader(note_path, \"utf-8\")\n",
    "docs = loader.load()\n",
    "\n",
    "prompt_template = \"\"\"Твоя задача найти в тексте термины без определений.\n",
    "Игнорируй обычные слова. Ищи только термины, определения и сокращения, которым не хватает расшифровки.\n",
    "Если таких нет, ничего не возвращай.\n",
    "Текст: \"{context}\"\n",
    "Ответ:\"\"\"\n",
    "# prompt = PromptTemplate.from_template(prompt_template)\n",
    "# stuff_chain = create_stuff_documents_chain(llm, prompt)\n",
    "# stuff_chain.invoke({\"context\": docs})\n",
    "\n",
    "qa_chain = load_qa_chain(llm, chain_type=\"map_reduce\")\n",
    "qa_document_chain = AnalyzeDocumentChain(combine_docs_chain=qa_chain)\n",
    "abbreviations = qa_document_chain.run(\n",
    "    input_document=docs[0].page_content,\n",
    "    question=\"\"\"Найди в тексте сокращения и аббревиатуры. Не выбирай нормальные слова. Выведи их в формате [термин_1, термин_2,\n",
    "    термин_3, термин_4]. Не мотивируй свой ответ, не выводи другой текст.\"\"\",\n",
    ")\n",
    "\n",
    "abbreviations = list(set(abbreviations[abbreviations.find('['):abbreviations.find(']')].replace('\"', '').replace(\"'\", '').strip('][').split(', ')))\n",
    "\n",
    "from langchain_community.utilities import GoogleSerperAPIWrapper\n",
    "search = GoogleSerperAPIWrapper(serper_api_key=SERPER_API_KEY, gl='ru', hl='ru', k=5)\n",
    "\n",
    "search_results = {}\n",
    "for abb in abbreviations:\n",
    "    search_results[abb] = search.run(f'{abb} это')\n",
    "\n",
    "decodings = {}\n",
    "for abbreviation, search_result in search_results.items():\n",
    "    decoding = llm.invoke(f'''Найди расшифровку аббривиатуры \"{abbreviation}\" в тексте:\n",
    "                          \"{search_result}\". Выведи только расшифровку. Не выводи опредеоление и другой текст. Не объясняй свой ответ.''').content\n",
    "    decodings[abbreviation] = decoding\n",
    "\n",
    "decodings"
   ]
  },
  {
   "cell_type": "markdown",
   "metadata": {},
   "source": [
    "# Roadmap"
   ]
  },
  {
   "cell_type": "code",
   "execution_count": 15,
   "metadata": {},
   "outputs": [
    {
     "name": "stdout",
     "output_type": "stream",
     "text": [
      "1. Изучение основ работы протокола DHCP. Это включает понимание того, как клиентские устройства получают IP-адреса и другие параметры от DHCP-сервера.\n",
      "    Состав программы:\n",
      "    - Основы работы протокола DHCP\n",
      "    - Роль DHCP-сервера и клиента\n",
      "    - Процесс бронирования IP-адресов\n",
      "    - Основные сообщения протокола DHCP (DISCOVER, OFFER, REQUEST, ACK)\n",
      "\n",
      "2. Изучение конфигурации DHCP-сервера. В этом этапе нужно научиться настраивать DHCP-сервер для выдачи IP-адресов клиентам.\n",
      "    Состав программы:\n",
      "    - Создание зоны DHCP на сервере\n",
      "    - Настройка пула IP-адресов\n",
      "    - Установка времени аренды IP-адресов\n",
      "    - Распределение дополнительных параметров (например, DNS, маршрутизаторы)\n",
      "\n",
      "3. Изучение расширенных возможностей DHCP. Здесь можно узнать о различных опциях и параметрах, которые могут быть использованы для более тонкой настройки DHCP-сервера.\n",
      "    Состав программы:\n",
      "    - Использование классов и вариантов опций DHCP\n",
      "    - Назначение статических IP-адресов\n",
      "    - Реализация резервирования IP-адресов\n",
      "    - Импорт и экспорт конфигурации DHCP\n",
      "\n",
      "4. Изучение безопасности DHCP. Важно понимать, какие меры безопасности можно принять для защиты DHCP-сервера от несанкционированного доступа и злоупотреблений.\n",
      "    Состав программы:\n",
      "    - Ограничение доступа к DHCP-серверу\n",
      "    - Защита от атак отказа в обслуживании (DoS)\n",
      "    - Шифрование трафика DHCP (DHCP over TLS)\n",
      "    - Использование DHCP snooping на коммутаторах\n",
      "\n",
      "5. Изучение интеграции DHCP с другими сервисами. Например, интеграция с Active Directory для централизованного управления доступом.\n",
      "    Состав программы:\n",
      "    - Настройка интеграции DHCP с AD\n",
      "    - Конфигурация авторизации и аутентификации клиентов\n",
      "    - Разделение пулов IP-адресов по группам пользователей\n",
      "    - Автоматическая настройка DNS и WINS серверов\n",
      "\n",
      "6. Изучение мониторинга и логирования DHCP. Важно уметь отслеживать работу DHCP-сервера и анализировать журналы ошибок.\n",
      "    Состав программы:\n",
      "    - Настройка системы мониторинга для DHCP\n",
      "    - Анализ журналов событий и ошибок\n",
      "    - Оповещения о проблемах с DHCP\n",
      "    - Использование инструментов для диагностики DHCP\n",
      "\n",
      "7. Изучение оптимизации DHCP. Включает в себя анализ производительности и принятие мер для улучшения работы DHCP-сервера.\n",
      "    Состав программы:\n",
      "    - Измерение производительности DHCP-сервера\n",
      "    - Оптимизация размера пула IP-адресов\n",
      "    - Балансировка нагрузки между несколькими DHCP-серверами\n",
      "    - Использование DHCP relay агентов для распределения нагрузки\n"
     ]
    }
   ],
   "source": [
    "from langchain_core.messages import HumanMessage, SystemMessage\n",
    "from langchain_core.prompts import ChatPromptTemplate, MessagesPlaceholder\n",
    "\n",
    "prompt = ChatPromptTemplate.from_messages(\n",
    "    [\n",
    "        (\n",
    "            \"system\",\n",
    "            \"\"\"Твоя задача - составить пользователю roadmap изучения указанной им темы/направления.\n",
    "            Посоветуй, что и в каком порядке ему следует изучить, чтобы полностью разобраться в теме.\n",
    "            Ответ пиши в формате списка. Составляй список в порядке возрастающей сложности. Следующие\n",
    "            шаги должны опираться на знания из предыдущих. Для каждого пункта добавь 2-3 предложения, \n",
    "            где описываются, что входит в эту тему. Ни в коем случае не делай список длиннее 7 пунктов.\n",
    "            Структура ответа: \n",
    "            1. Что изучить\n",
    "                Состав программы\n",
    "            2. Что изучить\n",
    "                Состав программы\n",
    "            \n",
    "            Пример 1:\n",
    "            Тема - Data Science\n",
    "            Ответ:\n",
    "            1. Теория вероятностей и описательная статистика\n",
    "                категориальные и числовые данные, среднее значение, мода и медиана\n",
    "                стандартное отклонение и дисперсия, ковариация, корреляция, асимметрия\n",
    "                комбинаторика, события и их вероятности, классическая вероятность, условная вероятность\n",
    "                формулы Байеса, Пуассона и Бернулли, локальная и интегральная теоремы Лапласа\n",
    "                дискретные случайные величины, дискретные распределения (геометрическое, биномиальное, Пуассона)\n",
    "                непрерывные случайные величины, непрерывные распределения (равномерное, показательное, нормальное)\n",
    "                \n",
    "            2. Языки программирования Python​\n",
    "                типы данных: числа, строки, списки, множества, кортежи, циклы while и for, условия,\n",
    "                их комбинации, функции, область видимости, lambda, рекурсия, декораторы, генераторы,\n",
    "                вычислительная сложность, операции над структурами данных, стандартная библиотека,\n",
    "                работа с ошибками и исключениями, try-except, raise, assert, работа с файлами: чтение,\n",
    "                запись, сериализация, концепции ООП: полиморфизм, наследование, инкапсуляция\n",
    "                \n",
    "            3. Разные библиотеки, инструменты и техники Python для Data Science​\n",
    "                pandas, numpy, scipy, matplotlib, scikit-learn, tensorflow\n",
    "                \n",
    "            ​4. SQL и базы данных​\n",
    "                базовые концепции: таблицы, столбцы, строки и типы данных\n",
    "                создание простых SELECT-запросов\n",
    "                фильтрация с помощью WHERE и LIKE\n",
    "                агрегирующие функции: COUNT, SUM, AVG, MAX/MIN\n",
    "                группировка с помощью GROUP BY, HAVING\n",
    "                объединение таблиц через JOIN\n",
    "                CREATE TABLE для создания новых таблиц\n",
    "                ALTER TABLE, DROP TABLE для изменения и удаления\n",
    "                INSERT, UPDATE для добавления, изменения строк в таблице\n",
    "                DELETE для удаления строк\n",
    "                концепции базы данных (первичные и внешние ключи)\n",
    "                создание новой БД при помощи CREATE DATABASE\n",
    "\n",
    "            5. Машинное обучение​\n",
    "                классическое обучение (регрессия, классификация, кластеризация,\n",
    "                поиск правил, уменьшение размерности), ансамблевые методы ( стекинг,\n",
    "                беггинг, бустинг), обучение с подрекплением, нейросети и глубокое обучение\n",
    "\n",
    "            Пример 2:\n",
    "            Тема - алгоритмы\n",
    "            Ответ:\n",
    "            1. Списки и хеширование\n",
    "            2. Два указателя / Стек\n",
    "            3. Бинарный поиск / Скользящее окно / Связанные листы\n",
    "            4. Деревья\n",
    "            5. Нагруженные деревья / Бектрекинг\n",
    "            6. Куча / Графы / Одноразмерное динамическое программирование\n",
    "            7. Интервалы / Жадный алгоритм / Двухразмерное динамическое программирование\\n\n",
    "            манипуляции с битами / Продвинутые графы \n",
    "            \"\"\",\n",
    "        ),\n",
    "        MessagesPlaceholder(variable_name=\"messages\"),\n",
    "    ]\n",
    ")\n",
    "\n",
    "chain = prompt | llm\n",
    "\n",
    "learning_topic = 'Android-разработка'\n",
    "\n",
    "roadmap = chain.invoke(\n",
    "    {\n",
    "        \"messages\": [\n",
    "            HumanMessage(\n",
    "                content=learning_topic\n",
    "            ),\n",
    "        ],\n",
    "    }\n",
    ").content\n",
    "\n",
    "print(roadmap)"
   ]
  },
  {
   "cell_type": "code",
   "execution_count": 17,
   "metadata": {},
   "outputs": [],
   "source": [
    "safe  = roadmap"
   ]
  },
  {
   "cell_type": "code",
   "execution_count": 27,
   "metadata": {},
   "outputs": [],
   "source": [
    "roadmap = safe"
   ]
  },
  {
   "cell_type": "markdown",
   "metadata": {},
   "source": [
    "### Создание заметок"
   ]
  },
  {
   "cell_type": "code",
   "execution_count": 28,
   "metadata": {},
   "outputs": [
    {
     "name": "stdout",
     "output_type": "stream",
     "text": [
      "{'1. Изучение основ работы протокола DHCP. Это включает понимание того, как клиентские устройства получают IP-адреса и другие параметры от DHCP-сервера.': '\\n\\nСостав программы\\n\\n- Основы работы протокола DHCP\\n\\n- Роль DHCP-сервера и клиента\\n\\n- Процесс бронирования IP-адресов\\n\\n- Основные сообщения протокола DHCP (DISCOVER, OFFER, REQUEST, ACK)\\n\\nСледующий этап: [[2. Изучение конфигурации DHCP-сервера. В этом этапе нужно научиться настраивать DHCP-сервер для выдачи IP-адресов клиентам.]]', '2. Изучение конфигурации DHCP-сервера. В этом этапе нужно научиться настраивать DHCP-сервер для выдачи IP-адресов клиентам.': '\\n\\nСостав программы\\n\\n- Создание зоны DHCP на сервере\\n\\n- Настройка пула IP-адресов\\n\\n- Установка времени аренды IP-адресов\\n\\n- Распределение дополнительных параметров (например, DNS, маршрутизаторы)\\n\\nСледующий этап: [[3. Изучение расширенных возможностей DHCP. Здесь можно узнать о различных опциях и параметрах, которые могут быть использованы для более тонкой настройки DHCP-сервера.]]', '3. Изучение расширенных возможностей DHCP. Здесь можно узнать о различных опциях и параметрах, которые могут быть использованы для более тонкой настройки DHCP-сервера.': '\\n\\nСостав программы\\n\\n- Использование классов и вариантов опций DHCP\\n\\n- Назначение статических IP-адресов\\n\\n- Реализация резервирования IP-адресов\\n\\n- Импорт и экспорт конфигурации DHCP\\n\\nСледующий этап: [[4. Изучение безопасности DHCP. Важно понимать, какие меры безопасности можно принять для защиты DHCP-сервера от несанкционированного доступа и злоупотреблений.]]', '4. Изучение безопасности DHCP. Важно понимать, какие меры безопасности можно принять для защиты DHCP-сервера от несанкционированного доступа и злоупотреблений.': '\\n\\nСостав программы\\n\\n- Ограничение доступа к DHCP-серверу\\n\\n- Защита от атак отказа в обслуживании (DoS)\\n\\n- Шифрование трафика DHCP (DHCP over TLS)\\n\\n- Использование DHCP snooping на коммутаторах\\n\\nСледующий этап: [[5. Изучение интеграции DHCP с другими сервисами. Например, интеграция с Active Directory для централизованного управления доступом.]]', '5. Изучение интеграции DHCP с другими сервисами. Например, интеграция с Active Directory для централизованного управления доступом.': '\\n\\nСостав программы\\n\\n- Настройка интеграции DHCP с AD\\n\\n- Конфигурация авторизации и аутентификации клиентов\\n\\n- Разделение пулов IP-адресов по группам пользователей\\n\\n- Автоматическая настройка DNS и WINS серверов\\n\\nСледующий этап: [[6. Изучение мониторинга и логирования DHCP. Важно уметь отслеживать работу DHCP-сервера и анализировать журналы ошибок.]]', '6. Изучение мониторинга и логирования DHCP. Важно уметь отслеживать работу DHCP-сервера и анализировать журналы ошибок.': '\\n\\nСостав программы\\n\\n- Настройка системы мониторинга для DHCP\\n\\n- Анализ журналов событий и ошибок\\n\\n- Оповещения о проблемах с DHCP\\n\\n- Использование инструментов для диагностики DHCP\\n\\nСледующий этап: [[7. Изучение оптимизации DHCP. Включает в себя анализ производительности и принятие мер для улучшения работы DHCP-сервера.]]', '7. Изучение оптимизации DHCP. Включает в себя анализ производительности и принятие мер для улучшения работы DHCP-сервера.': '7. Изучение оптимизации DHCP. Включает в себя анализ производительности и принятие мер для улучшения работы DHCP-сервера.\\n\\nСостав программы\\n\\n- Измерение производительности DHCP-сервера\\n\\n- Оптимизация размера пула IP-адресов\\n\\n- Балансировка нагрузки между несколькими DHCP-серверами\\n\\n- Использование DHCP relay агентов для распределения нагрузки'}\n"
     ]
    }
   ],
   "source": [
    "structure = {}\n",
    "note_num = [int(i) for i in roadmap if i.isdigit()]\n",
    "roadmap = '\\n'.join([line.strip() for line in roadmap.replace(':', '').splitlines()])\n",
    "for i in note_num[1:]:\n",
    "    split_id = roadmap.index(str(i)) # находим индекс номера пункта\n",
    "    batch = roadmap[:split_id].splitlines() # отделяем первый пукт\n",
    "    structure[batch[0]] = '\\n'+'\\n'.join(batch[1:]).strip() # словарь header - пункт \n",
    "    roadmap = roadmap[split_id:]\n",
    "    \n",
    "structure[roadmap.splitlines()[0]] = roadmap # добавляем последний пункт\n",
    "\n",
    "keys = list(structure.keys())\n",
    "for i in range(len(keys)-1):\n",
    "    structure[keys[i]] += ('\\nСледующий этап: [[' + list(structure.keys())[i+1]+']]')\n",
    "\n",
    "for k, v in structure.items():\n",
    "     structure[k] = v.replace('\\n', '\\n\\n')\n",
    "    \n",
    "print(structure)"
   ]
  },
  {
   "cell_type": "code",
   "execution_count": 25,
   "metadata": {},
   "outputs": [
    {
     "name": "stdout",
     "output_type": "stream",
     "text": [
      "as\n",
      "as\n"
     ]
    }
   ],
   "source": [
    "print('as\\nas')"
   ]
  },
  {
   "cell_type": "code",
   "execution_count": null,
   "metadata": {},
   "outputs": [],
   "source": []
  }
 ],
 "metadata": {
  "kernelspec": {
   "display_name": "Python 3 (ipykernel)",
   "language": "python",
   "name": "python3"
  },
  "language_info": {
   "codemirror_mode": {
    "name": "ipython",
    "version": 3
   },
   "file_extension": ".py",
   "mimetype": "text/x-python",
   "name": "python",
   "nbconvert_exporter": "python",
   "pygments_lexer": "ipython3",
   "version": "3.11.0"
  }
 },
 "nbformat": 4,
 "nbformat_minor": 4
}
